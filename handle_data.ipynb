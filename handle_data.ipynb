{
 "cells": [
  {
   "cell_type": "code",
   "execution_count": 842,
   "metadata": {},
   "outputs": [],
   "source": [
    "import os\n",
    "import sys\n",
    "import numpy as np\n",
    "import pandas as pd\n",
    "import tensorflow as tf\n",
    "import numpy.typing as npt\n",
    "import matplotlib.pyplot as plt\n",
    "from sklearn.ensemble import RandomForestClassifier, RandomForestRegressor, GradientBoostingClassifier\n",
    "from sklearn.model_selection import train_test_split\n",
    "from sklearn.metrics import *\n",
    "\n",
    "import xgboost as xgb"
   ]
  },
  {
   "cell_type": "code",
   "execution_count": 843,
   "metadata": {},
   "outputs": [],
   "source": [
    "# constants\n",
    "\n",
    "RANDOM_STATE: np.int8 = 42\n",
    "TEST_SIZE: np.float64 = 0.2\n",
    "\n",
    "MAXIMUM_UNIT_LENGTH_STAY: np.int32 = 24\n",
    "NUMBER_OF_BINS: np.int8 = 2"
   ]
  },
  {
   "cell_type": "code",
   "execution_count": 844,
   "metadata": {},
   "outputs": [],
   "source": [
    "# getting data from comorbidades and capacidade funcional, plus ages and labels\n",
    "df: pd.DataFrame = pd.read_csv(\"data/folha3.csv\")\n",
    "ages: pd.Series = df[\"Age\"].copy()\n",
    "df: pd.DataFrame = df[df[\"UnitLengthStay\"].apply(lambda x: x <= MAXIMUM_UNIT_LENGTH_STAY)].copy()\n",
    "df.dropna(axis=1, thresh=5000, inplace=True)\n",
    "df.dropna(axis=0, inplace=True)\n",
    "labels: pd.DataFrame = df[\"UnitLengthStay\"].copy()\n",
    "df = df.iloc[:, 22:]\n",
    "sheet_3_df: pd.DataFrame = (df == \"Verdadeiro\").astype(int)\n",
    "\n",
    "# getting data from motivos de internação na UTI\n",
    "df = pd.read_csv(\"data/folha4.csv\")\n",
    "df: pd.DataFrame = df[df[\"UnitLengthStay\"].apply(lambda x: x <= MAXIMUM_UNIT_LENGTH_STAY)].copy()\n",
    "df = df.iloc[:, 21:]\n",
    "df.dropna(axis=1, thresh=5000, inplace=True)\n",
    "df.dropna(axis=0, inplace=True)\n",
    "sheet_4_df: pd.DataFrame = (df == \"Verdadeiro\").astype(int)\n",
    "\n",
    "# joining dataframes\n",
    "final_data: pd.DataFrame = pd.concat([ages, sheet_3_df, sheet_4_df], axis=1, join=\"inner\")\n",
    "\n",
    "labels_regression: pd.DataFrame = labels.copy()\n",
    "labels_classification: pd.DataFrame = pd.cut(x=labels_regression, bins=[0, 2, MAXIMUM_UNIT_LENGTH_STAY], labels=np.arange(NUMBER_OF_BINS))"
   ]
  },
  {
   "attachments": {},
   "cell_type": "markdown",
   "metadata": {},
   "source": [
    "# REGRESSION"
   ]
  },
  {
   "cell_type": "code",
   "execution_count": 845,
   "metadata": {},
   "outputs": [],
   "source": [
    "X_train, X_test, y_train, y_test = train_test_split(\n",
    "    final_data, labels_regression, test_size=TEST_SIZE, random_state=RANDOM_STATE\n",
    ")\n",
    "NUMBER_OF_ESTIMATORS: np.int32 = 400"
   ]
  },
  {
   "cell_type": "code",
   "execution_count": 846,
   "metadata": {},
   "outputs": [
    {
     "data": {
      "text/plain": [
       "15.005414993391428"
      ]
     },
     "execution_count": 846,
     "metadata": {},
     "output_type": "execute_result"
    }
   ],
   "source": [
    "model = RandomForestRegressor(n_estimators=NUMBER_OF_ESTIMATORS)\n",
    "model.fit(X_train, y_train)\n",
    "y_pred = model.predict(X_test)\n",
    "mean_squared_error(y_test, y_pred)"
   ]
  },
  {
   "cell_type": "code",
   "execution_count": 847,
   "metadata": {},
   "outputs": [
    {
     "data": {
      "text/plain": [
       "16.60385834710524"
      ]
     },
     "execution_count": 847,
     "metadata": {},
     "output_type": "execute_result"
    }
   ],
   "source": [
    "model = xgb.XGBRegressor(n_estimators=NUMBER_OF_ESTIMATORS)\n",
    "model.fit(X_train, y_train)\n",
    "y_pred = model.predict(X_test)\n",
    "mean_squared_error(y_test, y_pred)"
   ]
  },
  {
   "attachments": {},
   "cell_type": "markdown",
   "metadata": {},
   "source": [
    "# CLASSIFICATION"
   ]
  },
  {
   "cell_type": "code",
   "execution_count": 848,
   "metadata": {},
   "outputs": [],
   "source": [
    "X_train, X_test, y_train, y_test = train_test_split(\n",
    "    final_data, labels_classification, test_size=TEST_SIZE, random_state=RANDOM_STATE\n",
    ")\n",
    "NUMBER_OF_ESTIMATORS: np.int32 = 400"
   ]
  },
  {
   "cell_type": "code",
   "execution_count": 849,
   "metadata": {},
   "outputs": [
    {
     "data": {
      "text/plain": [
       "array([0.6119403 , 0.57307061])"
      ]
     },
     "execution_count": 849,
     "metadata": {},
     "output_type": "execute_result"
    }
   ],
   "source": [
    "model = RandomForestClassifier(n_estimators=NUMBER_OF_ESTIMATORS)\n",
    "model.fit(X_train, y_train)\n",
    "y_pred = model.predict(X_test)\n",
    "f1_score(y_test, y_pred, average=None)"
   ]
  },
  {
   "cell_type": "code",
   "execution_count": 850,
   "metadata": {},
   "outputs": [
    {
     "data": {
      "text/plain": [
       "array([0.6286117 , 0.53731343])"
      ]
     },
     "execution_count": 850,
     "metadata": {},
     "output_type": "execute_result"
    }
   ],
   "source": [
    "model = xgb.XGBClassifier(n_estimators=NUMBER_OF_ESTIMATORS)\n",
    "model.fit(X_train, y_train)\n",
    "y_pred = model.predict(X_test)\n",
    "f1_score(y_test, y_pred, average=None)"
   ]
  }
 ],
 "metadata": {
  "kernelspec": {
   "display_name": "ml-final-project",
   "language": "python",
   "name": "python3"
  },
  "language_info": {
   "codemirror_mode": {
    "name": "ipython",
    "version": 3
   },
   "file_extension": ".py",
   "mimetype": "text/x-python",
   "name": "python",
   "nbconvert_exporter": "python",
   "pygments_lexer": "ipython3",
   "version": "3.11.3"
  },
  "orig_nbformat": 4
 },
 "nbformat": 4,
 "nbformat_minor": 2
}
