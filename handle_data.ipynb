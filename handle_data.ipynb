{
 "cells": [
  {
   "cell_type": "code",
   "execution_count": 507,
   "metadata": {},
   "outputs": [],
   "source": [
    "import os\n",
    "import sys\n",
    "import numpy as np\n",
    "import pandas as pd\n",
    "import tensorflow as tf\n",
    "import numpy.typing as npt\n",
    "import matplotlib.pyplot as plt\n",
    "from sklearn.ensemble import RandomForestClassifier\n",
    "from sklearn.model_selection import train_test_split\n",
    "from sklearn.metrics import *"
   ]
  },
  {
   "cell_type": "code",
   "execution_count": 508,
   "metadata": {},
   "outputs": [],
   "source": [
    "RANDOM_STATE=42\n",
    "TEST_SIZE=0.2"
   ]
  },
  {
   "cell_type": "code",
   "execution_count": 509,
   "metadata": {},
   "outputs": [],
   "source": [
    "df: pd.DataFrame = pd.read_csv(\"data/folha6.csv\")\n",
    "df.dropna(axis=\"columns\", thresh=5000, inplace=True)\n",
    "df = df[df[\"UnitLengthStay\"].apply(lambda x: x <= 24)] # deixando apenas os q ficaram ate um dia no unit\n",
    "df.fillna(value=0, inplace=True)\n",
    "discharge: pd.Series = (df.loc[:, df.columns == \"UnitDischargeName\"] == \"Óbito\").astype(\n",
    "    np.int8\n",
    ")\n",
    "discharge.columns = [\"DeathInUnit\"]\n",
    "fisiologic_data: pd.DataFrame = df.iloc[:, 21:].copy()\n",
    "\"\"\" fisiologic_data = fisiologic_data.div(\n",
    "    fisiologic_data.sum(axis=1), axis=0\n",
    ") \"\"\"\n",
    "labels: pd.DataFrame = df[\"UnitLengthStay\"].copy()\n",
    "labels = pd.cut(labels, bins=[0, 2, 24], labels=np.arange(2))"
   ]
  },
  {
   "cell_type": "code",
   "execution_count": 510,
   "metadata": {},
   "outputs": [],
   "source": [
    "X_train, X_test, y_train, y_test = train_test_split(\n",
    "    fisiologic_data, labels, test_size=TEST_SIZE, random_state=RANDOM_STATE\n",
    ")"
   ]
  },
  {
   "cell_type": "code",
   "execution_count": 511,
   "metadata": {},
   "outputs": [],
   "source": [
    "model = tf.keras.models.Sequential(\n",
    "    [\n",
    "        tf.keras.layers.Flatten(input_shape=(18,)),\n",
    "        tf.keras.layers.Dense(units=12, activation=\"sigmoid\"),\n",
    "        tf.keras.layers.Dense(units=1, activation=\"softmax\"),\n",
    "    ]\n",
    ")\n",
    "\n",
    "loss = tf.keras.losses.BinaryCrossentropy()\n",
    "optimizer = tf.keras.optimizers.Adam(learning_rate=0.01)\n",
    "metrics = [tf.keras.metrics.BinaryAccuracy()]\n",
    "\n",
    "model.compile(loss=loss, optimizer=optimizer, metrics=metrics)"
   ]
  },
  {
   "cell_type": "code",
   "execution_count": 512,
   "metadata": {},
   "outputs": [
    {
     "name": "stdout",
     "output_type": "stream",
     "text": [
      "Epoch 1/10\n"
     ]
    },
    {
     "name": "stdout",
     "output_type": "stream",
     "text": [
      "57/57 [==============================] - 0s 2ms/step - loss: 0.6887 - binary_accuracy: 0.4477\n",
      "Epoch 2/10\n",
      "57/57 [==============================] - 0s 2ms/step - loss: 0.6736 - binary_accuracy: 0.4477\n",
      "Epoch 3/10\n",
      "57/57 [==============================] - 0s 2ms/step - loss: 0.6759 - binary_accuracy: 0.4477\n",
      "Epoch 4/10\n",
      "57/57 [==============================] - 0s 3ms/step - loss: 0.6734 - binary_accuracy: 0.4477\n",
      "Epoch 5/10\n",
      "57/57 [==============================] - 0s 1ms/step - loss: 0.6832 - binary_accuracy: 0.4477\n",
      "Epoch 6/10\n",
      "57/57 [==============================] - 0s 1ms/step - loss: 0.6820 - binary_accuracy: 0.4477\n",
      "Epoch 7/10\n",
      "57/57 [==============================] - 0s 1ms/step - loss: 0.6762 - binary_accuracy: 0.4477\n",
      "Epoch 8/10\n",
      "57/57 [==============================] - 0s 2ms/step - loss: 0.6776 - binary_accuracy: 0.4477\n",
      "Epoch 9/10\n",
      "57/57 [==============================] - 0s 1ms/step - loss: 0.6798 - binary_accuracy: 0.4477\n",
      "Epoch 10/10\n",
      "57/57 [==============================] - 0s 3ms/step - loss: 0.6776 - binary_accuracy: 0.4477\n",
      "44/44 [==============================] - 0s 1ms/step\n"
     ]
    },
    {
     "data": {
      "text/plain": [
       "array([0.70637119, 0.        ])"
      ]
     },
     "execution_count": 512,
     "metadata": {},
     "output_type": "execute_result"
    }
   ],
   "source": [
    "model_history = model.fit(\n",
    "    X_train, y_train, batch_size=100, epochs=10, shuffle=True, verbose=1\n",
    ")\n",
    "\n",
    "y_pred = model.predict(x=X_test)\n",
    "y_pred = y_pred.argmax(axis=-1)\n",
    "f1_score(y_test, y_pred, average=None)"
   ]
  },
  {
   "cell_type": "code",
   "execution_count": 513,
   "metadata": {},
   "outputs": [
    {
     "data": {
      "text/plain": [
       "array([0.7327478 , 0.64735099])"
      ]
     },
     "execution_count": 513,
     "metadata": {},
     "output_type": "execute_result"
    }
   ],
   "source": [
    "rfc = RandomForestClassifier(n_estimators=100)\n",
    "rfc.fit(X=X_train, y=y_train)\n",
    "y_pred = rfc.predict(X_test)\n",
    "f1_score(y_test, y_pred, average=None)\n"
   ]
  },
  {
   "cell_type": "code",
   "execution_count": 514,
   "metadata": {},
   "outputs": [
    {
     "data": {
      "text/plain": [
       "0.5373455131649651"
      ]
     },
     "execution_count": 514,
     "metadata": {},
     "output_type": "execute_result"
    }
   ],
   "source": [
    "df = pd.read_csv(\"data/folha3.csv\")\n",
    "ages = df[\"Age\"].copy()\n",
    "df = df[df[\"UnitLengthStay\"].apply(lambda x: x <= 24)] # deixando apenas os q ficaram ate um dia no unit\n",
    "df = df.iloc[:, 22:]\n",
    "df.dropna(axis=1, thresh=5000, inplace=True)\n",
    "\n",
    "comorbidades = (df == \"Verdadeiro\").astype(int)\n",
    "\n",
    "df = pd.read_csv(\"data/folha4.csv\")\n",
    "df = df[df[\"UnitLengthStay\"].apply(lambda x: x <= 24)] # deixando apenas os q ficaram ate um dia no unit\n",
    "df = df.iloc[:, 21:]\n",
    "df.dropna(axis=1, thresh=5000, inplace=True)\n",
    "razoes = (df == \"Verdadeiro\").astype(int)\n",
    "\n",
    "result = pd.concat([ages, razoes, comorbidades], axis=1, join=\"inner\")\n",
    "\n",
    "X_train, X_test, y_train, y_test = train_test_split(\n",
    "    result, labels, test_size=0.3, random_state=RANDOM_STATE\n",
    ")\n",
    "\n",
    "rfc = RandomForestClassifier(n_estimators=300, criterion=\"log_loss\")\n",
    "rfc.fit(X=X_train, y=y_train)\n",
    "y_pred = rfc.predict(X_test)\n",
    "f1_score(y_test, y_pred)\n"
   ]
  },
  {
   "cell_type": "code",
   "execution_count": 516,
   "metadata": {},
   "outputs": [
    {
     "data": {
      "text/plain": [
       "array([[1115,   31],\n",
       "       [  82,  873]])"
      ]
     },
     "metadata": {},
     "output_type": "display_data"
    },
    {
     "data": {
      "text/plain": [
       "0.9392146315223238"
      ]
     },
     "execution_count": 516,
     "metadata": {},
     "output_type": "execute_result"
    }
   ],
   "source": [
    "import xgboost as xgb\n",
    "model = xgb.XGBClassifier(n_estimators=3000)\n",
    "model.fit(result, labels)\n",
    "y_pred = model.predict(X_test)\n",
    "display(confusion_matrix(y_test, y_pred))\n",
    "f1_score(y_test, y_pred)"
   ]
  }
 ],
 "metadata": {
  "kernelspec": {
   "display_name": "ml-final-project",
   "language": "python",
   "name": "python3"
  },
  "language_info": {
   "codemirror_mode": {
    "name": "ipython",
    "version": 3
   },
   "file_extension": ".py",
   "mimetype": "text/x-python",
   "name": "python",
   "nbconvert_exporter": "python",
   "pygments_lexer": "ipython3",
   "version": "3.11.3"
  },
  "orig_nbformat": 4
 },
 "nbformat": 4,
 "nbformat_minor": 2
}
