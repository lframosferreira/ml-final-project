{
 "cells": [
  {
   "cell_type": "code",
   "execution_count": 62,
   "metadata": {},
   "outputs": [],
   "source": [
    "import os\n",
    "import sys\n",
    "import numpy as np\n",
    "import pandas as pd\n",
    "import numpy.typing as npt\n",
    "import tensorflow as tf\n",
    "\n",
    "df: pd.DataFrame = pd.read_csv(\"data/folha6.csv\")"
   ]
  },
  {
   "cell_type": "code",
   "execution_count": null,
   "metadata": {},
   "outputs": [
    {
     "data": {
      "text/plain": [
       "(7085, 20)"
      ]
     },
     "execution_count": 72,
     "metadata": {},
     "output_type": "execute_result"
    }
   ],
   "source": [
    "df.dropna(axis=\"columns\", thresh=5000, inplace=True)\n",
    "df.fillna(value=0, inplace=True)\n",
    "discharge: pd.Series = (df.loc[:, df.columns == \"UnitDischargeName\"] == \"Óbito\").astype(np.int8)\n",
    "discharge.columns = [\"DeathInUnit\"]\n",
    "fisiologic_data: pd.DataFrame = df.iloc[:, 19:].copy()\n",
    "fisiologic_data = fisiologic_data.div(fisiologic_data.sum(axis=1), axis=0)\n",
    "fisiologic_data.head()"
   ]
  },
  {
   "cell_type": "code",
   "execution_count": null,
   "metadata": {},
   "outputs": [],
   "source": [
    "TEST_SIZE: np.float32 = 0.1\n",
    "RANDOM_STATE: np.int8 = 42\n",
    "LEARNING_RATE: np.float32 = 0.01"
   ]
  },
  {
   "cell_type": "code",
   "execution_count": null,
   "metadata": {},
   "outputs": [],
   "source": [
    "model = tf.keras.models.Sequential(\n",
    "        [\n",
    "            tf.keras.layers.Flatten(input_shape=(20,)),\n",
    "            tf.keras.layers.Dense(units=10, activation=\"sigmoid\"),\n",
    "            tf.keras.layers.Dense(units=2, activation=\"softmax\"),\n",
    "        ]\n",
    "    )\n",
    "\n",
    "loss = tf.keras.losses.BinaryCrossentropy()\n",
    "optimizer = tf.keras.optimizers.SGD(learning_rate=LEARNING_RATE)\n",
    "metrics = [tf.keras.metrics.BinaryAccuracy()]\n",
    "\n",
    "model.compile(loss=loss, optimizer=optimizer, metrics=metrics)\n"
   ]
  }
 ],
 "metadata": {
  "kernelspec": {
   "display_name": "ml-final-project",
   "language": "python",
   "name": "python3"
  },
  "language_info": {
   "codemirror_mode": {
    "name": "ipython",
    "version": 3
   },
   "file_extension": ".py",
   "mimetype": "text/x-python",
   "name": "python",
   "nbconvert_exporter": "python",
   "pygments_lexer": "ipython3",
   "version": "3.11.4"
  },
  "orig_nbformat": 4
 },
 "nbformat": 4,
 "nbformat_minor": 2
}
