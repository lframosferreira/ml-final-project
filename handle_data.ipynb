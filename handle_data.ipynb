{
 "cells": [
  {
   "cell_type": "code",
   "execution_count": 851,
   "metadata": {},
   "outputs": [],
   "source": [
    "import os\n",
    "import sys\n",
    "import numpy as np\n",
    "import pandas as pd\n",
    "import tensorflow as tf\n",
    "import numpy.typing as npt\n",
    "import matplotlib.pyplot as plt\n",
    "from sklearn.ensemble import RandomForestClassifier, RandomForestRegressor, GradientBoostingClassifier\n",
    "from sklearn.model_selection import train_test_split\n",
    "from sklearn.metrics import *\n",
    "\n",
    "import xgboost as xgb"
   ]
  },
  {
   "cell_type": "code",
   "execution_count": 852,
   "metadata": {},
   "outputs": [],
   "source": [
    "# constants\n",
    "\n",
    "RANDOM_STATE: np.int8 = 42\n",
    "TEST_SIZE: np.float64 = 0.2\n",
    "\n",
    "MAXIMUM_UNIT_LENGTH_STAY: np.int32 = 24\n",
    "NUMBER_OF_BINS: np.int8 = 2"
   ]
  },
  {
   "cell_type": "code",
   "execution_count": 853,
   "metadata": {},
   "outputs": [],
   "source": [
    "# getting data from comorbidades and capacidade funcional, plus ages and labels\n",
    "df: pd.DataFrame = pd.read_csv(\"data/folha3.csv\")\n",
    "ages: pd.Series = df[\"Age\"].copy()\n",
    "df: pd.DataFrame = df[df[\"UnitLengthStay\"].apply(lambda x: x <= MAXIMUM_UNIT_LENGTH_STAY)].copy()\n",
    "df.dropna(axis=1, thresh=5000, inplace=True)\n",
    "df.fillna(value=0, inplace=True)\n",
    "labels: pd.DataFrame = df[\"UnitLengthStay\"].copy()\n",
    "df = df.iloc[:, 22:]\n",
    "sheet_3_df: pd.DataFrame = (df == \"Verdadeiro\").astype(int)\n",
    "\n",
    "# getting data from motivos de internação na UTI\n",
    "df = pd.read_csv(\"data/folha4.csv\")\n",
    "df: pd.DataFrame = df[df[\"UnitLengthStay\"].apply(lambda x: x <= MAXIMUM_UNIT_LENGTH_STAY)].copy()\n",
    "df = df.iloc[:, 21:]\n",
    "df.dropna(axis=1, thresh=5000, inplace=True)\n",
    "df.fillna(value=0, inplace=True)\n",
    "sheet_4_df: pd.DataFrame = (df == \"Verdadeiro\").astype(int)\n",
    "\n",
    "# joining dataframes\n",
    "final_data: pd.DataFrame = pd.concat([ages, sheet_3_df, sheet_4_df], axis=1, join=\"inner\")\n",
    "\n",
    "labels_regression: pd.DataFrame = labels.copy()\n",
    "labels_classification: pd.DataFrame = pd.cut(x=labels_regression, bins=[0, 2, MAXIMUM_UNIT_LENGTH_STAY], labels=np.arange(NUMBER_OF_BINS))"
   ]
  },
  {
   "attachments": {},
   "cell_type": "markdown",
   "metadata": {},
   "source": [
    "# REGRESSION"
   ]
  },
  {
   "cell_type": "code",
   "execution_count": 854,
   "metadata": {},
   "outputs": [],
   "source": [
    "X_train, X_test, y_train, y_test = train_test_split(\n",
    "    final_data, labels_regression, test_size=TEST_SIZE, random_state=RANDOM_STATE\n",
    ")\n",
    "NUMBER_OF_ESTIMATORS: np.int32 = 400"
   ]
  },
  {
   "cell_type": "code",
   "execution_count": 855,
   "metadata": {},
   "outputs": [
    {
     "data": {
      "text/plain": [
       "13.946479474855199"
      ]
     },
     "execution_count": 855,
     "metadata": {},
     "output_type": "execute_result"
    }
   ],
   "source": [
    "model = RandomForestRegressor(n_estimators=NUMBER_OF_ESTIMATORS)\n",
    "model.fit(X_train, y_train)\n",
    "y_pred = model.predict(X_test)\n",
    "mean_squared_error(y_test, y_pred)"
   ]
  },
  {
   "cell_type": "code",
   "execution_count": 856,
   "metadata": {},
   "outputs": [
    {
     "data": {
      "text/plain": [
       "15.87017303562799"
      ]
     },
     "execution_count": 856,
     "metadata": {},
     "output_type": "execute_result"
    }
   ],
   "source": [
    "model = xgb.XGBRegressor(n_estimators=NUMBER_OF_ESTIMATORS)\n",
    "model.fit(X_train, y_train)\n",
    "y_pred = model.predict(X_test)\n",
    "mean_squared_error(y_test, y_pred)"
   ]
  },
  {
   "attachments": {},
   "cell_type": "markdown",
   "metadata": {},
   "source": [
    "# CLASSIFICATION"
   ]
  },
  {
   "cell_type": "code",
   "execution_count": 857,
   "metadata": {},
   "outputs": [],
   "source": [
    "X_train, X_test, y_train, y_test = train_test_split(\n",
    "    final_data, labels_classification, test_size=TEST_SIZE, random_state=RANDOM_STATE\n",
    ")\n",
    "NUMBER_OF_ESTIMATORS: np.int32 = 400"
   ]
  },
  {
   "cell_type": "code",
   "execution_count": 858,
   "metadata": {},
   "outputs": [
    {
     "data": {
      "text/plain": [
       "array([0.63233377, 0.55520505])"
      ]
     },
     "execution_count": 858,
     "metadata": {},
     "output_type": "execute_result"
    }
   ],
   "source": [
    "model = RandomForestClassifier(n_estimators=NUMBER_OF_ESTIMATORS)\n",
    "model.fit(X_train, y_train)\n",
    "y_pred = model.predict(X_test)\n",
    "f1_score(y_test, y_pred, average=None)"
   ]
  },
  {
   "cell_type": "code",
   "execution_count": 868,
   "metadata": {},
   "outputs": [
    {
     "data": {
      "text/plain": [
       "array([0.65671642, 0.53768844])"
      ]
     },
     "execution_count": 868,
     "metadata": {},
     "output_type": "execute_result"
    }
   ],
   "source": [
    "model = xgb.XGBClassifier(n_estimators=NUMBER_OF_ESTIMATORS, random_state=42)\n",
    "model.fit(X_train, y_train)\n",
    "y_pred = model.predict(X_test)\n",
    "f1_score(y_test, y_pred, average=None)"
   ]
  },
  {
   "cell_type": "code",
   "execution_count": 869,
   "metadata": {},
   "outputs": [
    {
     "data": {
      "text/plain": [
       "array(['Age', 'IsChfNyhaClass23', 'IsChfNyhaClass4', 'IsCrfNoDialysis',\n",
       "       'IsCrfDialysis', 'IsCirrhosisChildAB', 'IsCirrhosisChildC',\n",
       "       'IsHepaticFailure', 'IsSolidTumorLocoregional',\n",
       "       'IsSolidTumorMetastatic', 'IsHematologicalMalignancy',\n",
       "       'IsImmunossupression', 'IsSevereCopd', 'IsSteroidsUse', 'IsAids',\n",
       "       'IsArterialHypertension', 'IsAsthma', 'IsDiabetesUncomplicated',\n",
       "       'IsDiabetesComplicated', 'IsAngina', 'IsPreviousMI',\n",
       "       'IsCardiacArrhythmia', 'IsDeepVenousThrombosis',\n",
       "       'IsPeripheralArteryDisease', 'IsChronicAtrialFibrilation',\n",
       "       'IsRheumaticDisease', 'IsStrokeSequelae', 'IsStrokeNoSequelae',\n",
       "       'IsDementia', 'IsTobaccoConsumption', 'IsAlcoholism',\n",
       "       'IsPsychiatricDisease', 'IsMorbidObesity', 'IsMalnourishment',\n",
       "       'Is Peptic Disease', 'Is Solid Organ Transplant',\n",
       "       'Is Autologous BMT', 'Is Allogeneic BMT',\n",
       "       'Is Other Solid Organ Transplant', 'Is Cardiac Transplant',\n",
       "       'Is Combined Liverkidney Transplant',\n",
       "       'Is Combined Pancreaskidney Transplant', 'Is Liver Transplant',\n",
       "       'Is Intestinal Transplant', 'Is Pancreas Transplant',\n",
       "       'Is Lung Transplant', 'Is Kidney Transplant', 'Is Hypothyroidism',\n",
       "       'Is Hyperthyroidism', 'Is Dyslipidemias', 'Is Chemotherapy',\n",
       "       'Is Radiation Therapy', 'Is History Of Pneumonia',\n",
       "       'IsNeurologicalComaStuporObtundedDelirium',\n",
       "       'IsNeurologicalSeizures', 'IsNeurologicalFocalNeurologicDeficit',\n",
       "       'IsNeurologicalIntracranialMassEffect',\n",
       "       'IsCardiovascularHypovolemicHemorrhagicShock',\n",
       "       'IsCardiovascularSepticShock',\n",
       "       'IsCardiovascularRhythmDisturbances',\n",
       "       'IsCardiovascularAnaphylacticMixedUndefinedShock',\n",
       "       'IsDigestiveAcuteAbdomen', 'IsDigestiveSeverePancreatitis',\n",
       "       'IsLiverFailure', 'IsTransplantSolidOrgan',\n",
       "       'IsTraumaMultipleTrauma', 'IsCardiacSurgery', 'IsNeurosurgery'],\n",
       "      dtype='<U47')"
      ]
     },
     "execution_count": 869,
     "metadata": {},
     "output_type": "execute_result"
    }
   ],
   "source": [
    "model.feature_names_in_"
   ]
  }
 ],
 "metadata": {
  "kernelspec": {
   "display_name": "ml-final-project",
   "language": "python",
   "name": "python3"
  },
  "language_info": {
   "codemirror_mode": {
    "name": "ipython",
    "version": 3
   },
   "file_extension": ".py",
   "mimetype": "text/x-python",
   "name": "python",
   "nbconvert_exporter": "python",
   "pygments_lexer": "ipython3",
   "version": "3.11.3"
  },
  "orig_nbformat": 4
 },
 "nbformat": 4,
 "nbformat_minor": 2
}
